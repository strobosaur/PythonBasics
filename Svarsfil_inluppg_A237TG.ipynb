{
 "cells": [
  {
   "cell_type": "markdown",
   "metadata": {},
   "source": [
    "## Deluppgift 1\n",
    "Ev. kommentar:"
   ]
  },
  {
   "cell_type": "code",
   "execution_count": 7,
   "metadata": {},
   "outputs": [
    {
     "name": "stdout",
     "output_type": "stream",
     "text": [
      "Kameradata-filen: \n",
      "[['MätplatsID', 'Gällande Hastighet', 'Hastighet', 'Datum', 'Tid'], ['14075010', '40', '55', '2021-09-11', '11:15:31'], ['14075010', '40', '54', '2021-09-11', '08:09:17']]\n",
      "\n",
      "Platsdata-filen: \n",
      "[['MätplatsID', 'Namn', 'Vägnummer', 'Kommun'], ['14002010', 'Bhpl Gestadvägen', 'E45', 'Vänersborg'], ['14002020', 'Bhpl Gestadvägen', 'E45', 'Vänersborg']]\n",
      "\n"
     ]
    }
   ],
   "source": [
    "import os\n",
    "import sys\n",
    "import csv\n",
    "import datetime\n",
    "import matplotlib.pyplot as plt\n",
    "import numpy as np\n",
    " \n",
    "# ================================================================\n",
    "# LÄSER IN EN CSV FIL OCH RETURNERAR INNEHÅLLET SOM EN 2-DIMENSIONELL LISTA\n",
    "def read_file(file_name):\n",
    "    \n",
    "    # DEFINE VARIABLES\n",
    "    outputList = []\n",
    "    \n",
    "    # CHECK IF FILE EXISTS\n",
    "    if not os.path.isfile(file_name):\n",
    "        print('File does not exist. Terminating process.')\n",
    "        sys.exit()\n",
    "    else:\n",
    "        with open (file_name, mode='r', encoding='utf-8') as file:\n",
    "            csvReader = csv.reader(file, delimiter = ';')\n",
    "            \n",
    "            # LOOP THROUGH CSV FILE AND APPEND EACH LINE TO OUTPUT LIST\n",
    "            for line in csvReader:\n",
    "                outputList.append(line)\n",
    "                \n",
    "            # RETURN OUTPUT LIST\n",
    "            return outputList\n",
    "\n",
    "# ================================================================\n",
    "# HUVUDPROGRAM\n",
    "\n",
    "platsdata = read_file('platsData.csv')\n",
    "kameradata = read_file('kameraData.csv')\n",
    "\n",
    "# SKRIV UT FÖRSTA TRE RADERNA I KAMERADATA\n",
    "print(\"Kameradata-filen: \")\n",
    "print(kameradata[0:3])\n",
    "print()\n",
    "\n",
    "# SKRIV UT FÖRSTA TRE RADERNA I PLATSDATA\n",
    "print(\"Platsdata-filen: \")\n",
    "print(platsdata[0:3])\n",
    "print()"
   ]
  },
  {
   "cell_type": "markdown",
   "metadata": {},
   "source": [
    "## Deluppgift 2\n",
    "Ev. kommentar:"
   ]
  },
  {
   "cell_type": "code",
   "execution_count": 13,
   "metadata": {},
   "outputs": [
    {
     "name": "stdout",
     "output_type": "stream",
     "text": [
      "Det finns 69\tmätningar där gällande hastighet är 40km/h\n",
      "Det finns 96\tmätningar där gällande hastighet är 50km/h\n",
      "Det finns 204\tmätningar där gällande hastighet är 60km/h\n",
      "Det finns 389\tmätningar där gällande hastighet är 70km/h\n",
      "Det finns 471\tmätningar där gällande hastighet är 80km/h\n",
      "Det finns 94\tmätningar där gällande hastighet är 90km/h\n",
      "================================================================\n",
      "Totalt passerade 1323 bilar.\n"
     ]
    },
    {
     "data": {
      "image/png": "[encoded data removed]",
      "text/plain": [
       "<Figure size 432x288 with 1 Axes>"
      ]
     },
     "metadata": {
      "needs_background": "light"
     },
     "output_type": "display_data"
    }
   ],
   "source": [
    "# ================================================================\n",
    "# FUNCTION NUMBER OF CARS\n",
    "def antal_bilar(kamera_data):\n",
    "    \n",
    "    # DEFINE VARIABLES\n",
    "    totalCars = 0\n",
    "    outputList1 = []\n",
    "    outputList2 = []\n",
    "    \n",
    "    # FIND ALL SPEED LIMITS\n",
    "    for i in range(1, len(kamera_data), 1):\n",
    "        currentSpeed = int(kamera_data[i][1])\n",
    "        if not currentSpeed in outputList1:\n",
    "            outputList1.append(currentSpeed)\n",
    "            outputList1.sort()            \n",
    "            outputList2.append(0)\n",
    "    \n",
    "    # POPULATE LIST OF CARS AT EACH SPEED LIMIT\n",
    "    for j in range(1, len(kamera_data), 1):\n",
    "        currentSpeed = int(kamera_data[j][1])\n",
    "        index = outputList1.index(currentSpeed)\n",
    "        outputList2[index] += 1\n",
    "        totalCars += 1\n",
    "    \n",
    "    # PRINT CAR & SPEED LIMIT DATA\n",
    "    for k in range(0, len(outputList1), 1):\n",
    "        print(\"Det finns \" \n",
    "              + str(outputList2[k]) \n",
    "              + \"\\tmätningar där gällande hastighet är \" \n",
    "              + str(outputList1[k]) + \"km/h\")\n",
    "        \n",
    "    print(\"================================================================\")\n",
    "    print(\"Totalt passerade \" + str(totalCars) + \" bilar.\")\n",
    "    \n",
    "    # PLOT DIAGRAM\n",
    "    plt.rcParams.update({'font.size': 14})\n",
    "    plt.bar(outputList1, outputList2)\n",
    "    plt.title(\"Antal fordon för varje gällande hastighet\")\n",
    "    plt.xlabel(\"Gällande hastighet\")\n",
    "    plt.ylabel(\"Antal passerade fordon\")\n",
    "    plt.grid(True)\n",
    "    plt.show()\n",
    "\n",
    "# ================================================================\n",
    "# HUVUDPROGRAM\n",
    "\n",
    "platsdata = read_file('platsData.csv')\n",
    "kameradata = read_file('kameraData.csv')\n",
    "\n",
    "# CALL FUNCTION NUMBER OF CARS\n",
    "antal_bilar(kameradata)\n"
   ]
  },
  {
   "cell_type": "markdown",
   "metadata": {},
   "source": [
    "## Deluppgift 3\n",
    "Ev. kommentar:"
   ]
  },
  {
   "cell_type": "code",
   "execution_count": null,
   "metadata": {},
   "outputs": [],
   "source": [
    "\n"
   ]
  },
  {
   "cell_type": "markdown",
   "metadata": {},
   "source": [
    "## Deluppgift 4\n",
    "Ev. kommentar:"
   ]
  },
  {
   "cell_type": "code",
   "execution_count": null,
   "metadata": {},
   "outputs": [],
   "source": [
    "\n"
   ]
  },
  {
   "cell_type": "markdown",
   "metadata": {},
   "source": [
    "## Deluppgift 5\n",
    "Ev. kommentar:"
   ]
  },
  {
   "cell_type": "code",
   "execution_count": null,
   "metadata": {},
   "outputs": [],
   "source": [
    "\n"
   ]
  },
  {
   "cell_type": "markdown",
   "metadata": {},
   "source": [
    "## Deluppgift 6\n",
    "Ev. kommentar:"
   ]
  },
  {
   "cell_type": "code",
   "execution_count": null,
   "metadata": {},
   "outputs": [],
   "source": [
    "\n"
   ]
  }
 ],
 "metadata": {
  "kernelspec": {
   "display_name": "Python 3 (ipykernel)",
   "language": "python",
   "name": "python3"
  },
  "language_info": {
   "codemirror_mode": {
    "name": "ipython",
    "version": 3
   },
   "file_extension": ".py",
   "mimetype": "text/x-python",
   "name": "python",
   "nbconvert_exporter": "python",
   "pygments_lexer": "ipython3",
   "version": "3.9.12"
  }
 },
 "nbformat": 4,
 "nbformat_minor": 2
}
