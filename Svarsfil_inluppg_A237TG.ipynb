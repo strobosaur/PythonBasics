#!/usr/bin/env python
# coding: utf-8

# ## Deluppgift 1
# Ev. kommentar:

# In[7]:


import os
import sys
import csv
import datetime
import matplotlib.pyplot as plt
import numpy as np
 
# ================================================================
# LÄSER IN EN CSV FIL OCH RETURNERAR INNEHÅLLET SOM EN 2-DIMENSIONELL LISTA
def read_file(file_name):
    
    # DEFINE VARIABLES
    outputList = []
    
    # CHECK IF FILE EXISTS
    if not os.path.isfile(file_name):
        print('File does not exist. Terminating process.')
        sys.exit()
    else:
        with open (file_name, mode='r', encoding='utf-8') as file:
            csvReader = csv.reader(file, delimiter = ';')
            
            # LOOP THROUGH CSV FILE AND APPEND EACH LINE TO OUTPUT LIST
            for line in csvReader:
                outputList.append(line)
                
            # RETURN OUTPUT LIST
            return outputList

# ================================================================
# HUVUDPROGRAM

platsdata = read_file('platsData.csv')
kameradata = read_file('kameraData.csv')

# SKRIV UT FÖRSTA TRE RADERNA I KAMERADATA
print("Kameradata-filen: ")
print(kameradata[0:3])
print()

# SKRIV UT FÖRSTA TRE RADERNA I PLATSDATA
print("Platsdata-filen: ")
print(platsdata[0:3])
print()


# ## Deluppgift 2
# Ev. kommentar:

# In[13]:


# ================================================================
# FUNCTION NUMBER OF CARS
def antal_bilar(kamera_data):
    
    # DEFINE VARIABLES
    totalCars = 0
    outputList1 = []
    outputList2 = []
    
    # FIND ALL SPEED LIMITS
    for i in range(1, len(kamera_data), 1):
        currentSpeed = int(kamera_data[i][1])
        if not currentSpeed in outputList1:
            outputList1.append(currentSpeed)
            outputList1.sort()            
            outputList2.append(0)
    
    # POPULATE LIST OF CARS AT EACH SPEED LIMIT
    for j in range(1, len(kamera_data), 1):
        currentSpeed = int(kamera_data[j][1])
        index = outputList1.index(currentSpeed)
        outputList2[index] += 1
        totalCars += 1
    
    # PRINT CAR & SPEED LIMIT DATA
    for k in range(0, len(outputList1), 1):
        print("Det finns " 
              + str(outputList2[k]) 
              + "\tmätningar där gällande hastighet är " 
              + str(outputList1[k]) + "km/h")
        
    print("================================================================")
    print("Totalt passerade " + str(totalCars) + " bilar.")
    
    # PLOT DIAGRAM
    plt.rcParams.update({'font.size': 14})
    plt.bar(outputList1, outputList2)
    plt.title("Antal fordon för varje gällande hastighet")
    plt.xlabel("Gällande hastighet")
    plt.ylabel("Antal passerade fordon")
    plt.grid(True)
    plt.show()

# ================================================================
# HUVUDPROGRAM

platsdata = read_file('platsData.csv')
kameradata = read_file('kameraData.csv')

# CALL FUNCTION NUMBER OF CARS
antal_bilar(kameradata)


# ## Deluppgift 3
# Ev. kommentar:

# In[ ]:





# ## Deluppgift 4
# Ev. kommentar:

# In[ ]:





# ## Deluppgift 5
# Ev. kommentar:

# In[ ]:





# ## Deluppgift 6
# Ev. kommentar:

# In[ ]:




